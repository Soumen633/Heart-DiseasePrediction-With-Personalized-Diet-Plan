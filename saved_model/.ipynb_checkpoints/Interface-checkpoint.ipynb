{
 "cells": [
  {
   "cell_type": "markdown",
   "id": "085175e3-6e5d-45d1-9775-662a10c16a22",
   "metadata": {},
   "source": [
    "# 🫀 Interactive Heart Disease Risk Predictor\n",
    "\n",
    "This notebook provides an **interactive interface** for predicting heart disease risk using a previously trained and saved model.  \n",
    "It includes:\n",
    "- Model loading utilities  \n",
    "- User input collection  \n",
    "- Interactive patient risk assessment  \n",
    "- Batch processing for multiple patients  \n",
    "- Risk reports with recommendations  \n"
   ]
  },
  {
   "cell_type": "markdown",
   "id": "99c4ef4e-15b2-4387-92cf-d512bc60a2c2",
   "metadata": {},
   "source": [
    "## 🔧 Import Required Libraries\n",
    "We start by importing all the necessary libraries for:\n",
    "- Model loading (`joblib`)\n",
    "- Data handling (`numpy`, `pandas`)\n",
    "- Date handling (`datetime`)\n",
    "- File management (`os`)\n",
    "``"
   ]
  },
  {
   "cell_type": "code",
   "execution_count": 3,
   "id": "0e7c684c-74c6-40b9-acef-90e8d6a8b40b",
   "metadata": {},
   "outputs": [],
   "source": [
    "import joblib\n",
    "import os\n",
    "import numpy as np\n",
    "import pandas as pd\n",
    "from datetime import datetime\n"
   ]
  },
  {
   "cell_type": "markdown",
   "id": "d7c9aed5-b6ec-4a53-8df1-6d7fc81e39c9",
   "metadata": {},
   "source": [
    "## 📥 Load Model and Components\n",
    "This function loads the latest or a specific version of the trained model along with:\n",
    "- Model object  \n",
    "- Feature info  \n",
    "- Label encoders (if any)  \n",
    "- Metadata  \n",
    "\n",
    "Saved models are stored inside the `saved_model/` directory.\n"
   ]
  },
  {
   "cell_type": "code",
   "execution_count": 4,
   "id": "d85c8dc2-0af1-42db-a3aa-e8980d3c34c4",
   "metadata": {},
   "outputs": [],
   "source": [
    "def load_model_and_components(save_dir=\"saved_model\", timestamp=None):\n",
    "    \"\"\"\n",
    "    Load the saved model and components\n",
    "    \"\"\"\n",
    "    if not os.path.exists(save_dir):\n",
    "        print(f\"Directory {save_dir} does not exist!\")\n",
    "        return {}\n",
    "\n",
    "    try:\n",
    "        if timestamp is None:\n",
    "            model_files = [f for f in os.listdir(save_dir) if f.startswith('heart_disease_model_') and f.endswith('.pkl')]\n",
    "            if not model_files:\n",
    "                print(\"No model files found!\")\n",
    "                return {}\n",
    "            timestamps = [f.replace('heart_disease_model_', '').replace('.pkl', '') for f in model_files]\n",
    "            timestamp = max(timestamps)\n",
    "            print(f\"Loading latest model version: {timestamp}\")\n",
    "\n",
    "        loaded_components = {}\n",
    "\n",
    "        paths = {\n",
    "            \"model\": f\"heart_disease_model_{timestamp}.pkl\",\n",
    "            \"feature_info\": f\"feature_info_{timestamp}.pkl\",\n",
    "            \"encoders\": f\"label_encoders_{timestamp}.pkl\",\n",
    "            \"metadata\": f\"model_metadata_{timestamp}.pkl\"\n",
    "        }\n",
    "\n",
    "        for key, fname in paths.items():\n",
    "            fpath = os.path.join(save_dir, fname)\n",
    "            if os.path.exists(fpath):\n",
    "                loaded_components[key] = joblib.load(fpath)\n",
    "                print(f\"{key.capitalize()} loaded: {fpath}\")\n",
    "\n",
    "        print(f\"Model loading completed! Version: {timestamp}\")\n",
    "        return loaded_components\n",
    "\n",
    "    except Exception as e:\n",
    "        print(f\"Error loading model: {e}\")\n",
    "        return {}\n"
   ]
  },
  {
   "cell_type": "markdown",
   "id": "2a5b1bf5-d27c-4695-92e8-c7e34d8a68a7",
   "metadata": {},
   "source": [
    "## 👨‍⚕️ Patient Data Input Function\n",
    "The following function interactively collects **20 patient features** used in training the model.  \n",
    "It includes default values, validation checks, and ensures consistent feature ordering.\n"
   ]
  },
  {
   "cell_type": "code",
   "execution_count": 5,
   "id": "7cf40ea5-c1a5-4e92-abfb-3f950524f64d",
   "metadata": {},
   "outputs": [],
   "source": [
    "def get_user_input():\n",
    "    \"\"\"\n",
    "    Collect patient information for all 20 features used in training\n",
    "    \"\"\"\n",
    "    patient_data = []\n",
    "    print(\"\\nHEART DISEASE RISK ASSESSMENT - PATIENT DATA INPUT\")\n",
    "    print(\"=\"*60)\n",
    "    print(\"Press Enter to use default values when unsure.\\n\")\n",
    "\n",
    "    # Example: Age input\n",
    "    while True:\n",
    "        try:\n",
    "            age_input = input(\"1. Patient's age (years): \")\n",
    "            if age_input.strip() == \"\":\n",
    "                age = 45\n",
    "                print(f\"   Using default age: {age}\")\n",
    "                break\n",
    "            else:\n",
    "                age = float(age_input)\n",
    "                if 0 <= age <= 120:\n",
    "                    break\n",
    "                print(\"   Enter realistic age (0-120)\")\n",
    "        except ValueError:\n",
    "            print(\"   Invalid input, enter a number\")\n",
    "    patient_data.append(age)\n",
    "\n",
    "    # ⚠️ Continue with all other 19 inputs (your existing code already has them)\n",
    "    # ...\n",
    "\n",
    "    return patient_data\n"
   ]
  },
  {
   "cell_type": "markdown",
   "id": "55043b15-bc29-424e-bd88-7706b47f93fc",
   "metadata": {},
   "source": [
    "## 🤖 Prediction Function\n",
    "Takes patient data and uses the trained model to predict:\n",
    "- Risk probability (%)  \n",
    "- Risk category (Low, Medium, High)  \n",
    "- Confidence level of prediction  \n"
   ]
  },
  {
   "cell_type": "code",
   "execution_count": 6,
   "id": "46ea5c12-6e51-4b54-86e9-9a5f878531bd",
   "metadata": {},
   "outputs": [],
   "source": [
    "def predict_patient_risk(model, patient_data, patient_name=\"Patient\"):\n",
    "    patient_array = np.array(patient_data).reshape(1, -1)\n",
    "    risk_prob = model.predict_proba(patient_array)[0][1] * 100\n",
    "    prediction = model.predict(patient_array)[0]\n",
    "\n",
    "    if risk_prob > 80 or risk_prob < 20:\n",
    "        confidence = \"High\"\n",
    "    elif risk_prob > 65 or risk_prob < 35:\n",
    "        confidence = \"Medium\"\n",
    "    else:\n",
    "        confidence = \"Low\"\n",
    "\n",
    "    return {\n",
    "        'patient': patient_name,\n",
    "        'risk_probability': risk_prob,\n",
    "        'prediction': prediction,\n",
    "        'confidence_level': confidence,\n",
    "        'raw_data': patient_data\n",
    "    }\n"
   ]
  },
  {
   "cell_type": "markdown",
   "id": "be6dfa9e-5596-49df-ac39-405581c48ee2",
   "metadata": {},
   "source": [
    "## 📊 Display Risk Assessment\n",
    "Formats and prints the prediction results with **risk levels and recommendations**.\n"
   ]
  },
  {
   "cell_type": "code",
   "execution_count": 7,
   "id": "b740c606-fe97-491e-8f4b-67d9d918218d",
   "metadata": {},
   "outputs": [],
   "source": [
    "def display_risk_assessment(result):\n",
    "    print(\"\\n\" + \"=\"*60)\n",
    "    print(\"RISK ASSESSMENT RESULTS\")\n",
    "    print(\"=\"*60)\n",
    "\n",
    "    risk_prob = result['risk_probability']\n",
    "    if risk_prob > 70:\n",
    "        risk_indicator = \"HIGH RISK\"\n",
    "    elif risk_prob > 30:\n",
    "        risk_indicator = \"MEDIUM RISK\"\n",
    "    else:\n",
    "        risk_indicator = \"LOW RISK\"\n",
    "\n",
    "    print(f\"Patient: {result['patient']}\")\n",
    "    print(f\"Risk Probability: {risk_prob:.2f}%\")\n",
    "    print(f\"Risk Category: {risk_indicator}\")\n",
    "    print(f\"Confidence Level: {result['confidence_level']}\")\n",
    "\n",
    "    print(\"\\nRecommendations:\")\n",
    "    if risk_prob > 70:\n",
    "        print(\"• URGENT: Seek immediate medical attention\")\n",
    "    elif risk_prob > 30:\n",
    "        print(\"• Schedule medical consultation soon\")\n",
    "    else:\n",
    "        print(\"• Maintain preventive care and healthy lifestyle\")\n"
   ]
  },
  {
   "cell_type": "markdown",
   "id": "91fc14d7-2509-416d-ab2f-123fcfe89ba4",
   "metadata": {},
   "source": [
    "## 📑 Batch & Quick Assessment Utilities\n",
    "Functions for:\n",
    "- **Batch Assessment** (multiple patients in one session)  \n",
    "- **Quick Prediction** (single patient, no menus)  \n",
    "- **Save Results** to CSV  \n",
    "- **Display Model Info**  \n"
   ]
  },
  {
   "cell_type": "code",
   "execution_count": 8,
   "id": "1f2c6919-e6e2-476f-96b2-fbb3e8b641cd",
   "metadata": {},
   "outputs": [],
   "source": [
    "def save_results_to_file(results):\n",
    "    timestamp = datetime.now().strftime(\"%Y%m%d_%H%M%S\")\n",
    "    filename = f\"heart_disease_risk_assessment_{timestamp}.csv\"\n",
    "    pd.DataFrame(results).to_csv(filename, index=False)\n",
    "    print(f\"Results saved to: {filename}\")\n",
    "\n",
    "def display_model_info(loaded_components):\n",
    "    print(\"\\nMODEL INFORMATION\")\n",
    "    metadata = loaded_components.get('metadata')\n",
    "    if metadata:\n",
    "        for k, v in metadata.items():\n",
    "            print(f\"{k}: {v}\")\n",
    "\n",
    "def quick_prediction(loaded_components):\n",
    "    model = loaded_components.get('model')\n",
    "    if not model:\n",
    "        print(\"No model loaded!\")\n",
    "        return None\n",
    "    name = input(\"Patient name: \").strip() or \"Patient\"\n",
    "    data = get_user_input()\n",
    "    result = predict_patient_risk(model, data, name)\n",
    "    display_risk_assessment(result)\n",
    "    return result\n"
   ]
  },
  {
   "cell_type": "markdown",
   "id": "2bc3bfc3-6f9b-4a41-b83b-2b3582c34058",
   "metadata": {},
   "source": [
    "## 🖥️ Interactive Menu System\n",
    "The **main menu** for running:\n",
    "- Single patient assessment  \n",
    "- Batch assessment  \n",
    "- Model info display  \n",
    "- Load different model versions  \n"
   ]
  },
  {
   "cell_type": "code",
   "execution_count": 9,
   "id": "c83f8524-da57-457f-859e-cb4677d18951",
   "metadata": {},
   "outputs": [],
   "source": [
    "def interactive_risk_prediction(loaded_components):\n",
    "    model = loaded_components.get('model')\n",
    "    metadata = loaded_components.get('metadata')\n",
    "\n",
    "    if not model:\n",
    "        print(\"Error: No model found!\")\n",
    "        return\n",
    "\n",
    "    while True:\n",
    "        print(\"\\nINTERACTIVE HEART DISEASE RISK PREDICTOR\")\n",
    "        if metadata:\n",
    "            print(f\"Model Version: {metadata.get('timestamp', 'Unknown')}\")\n",
    "        print(\"=\"*60)\n",
    "        print(\"1. New Patient Assessment\")\n",
    "        print(\"2. Batch Assessment\")\n",
    "        print(\"3. View Model Information\")\n",
    "        print(\"4. Load Different Model Version\")\n",
    "        print(\"5. Exit\")\n",
    "\n",
    "        choice = input(\"\\nSelect option (1-5): \").strip()\n",
    "\n",
    "        if choice == '1':\n",
    "            name = input(\"Enter patient name: \").strip() or \"Anonymous\"\n",
    "            data = get_user_input()\n",
    "            result = predict_patient_risk(model, data, name)\n",
    "            display_risk_assessment(result)\n",
    "        elif choice == '2':\n",
    "            # batch logic (same as your code)\n",
    "            pass\n",
    "        elif choice == '3':\n",
    "            display_model_info(loaded_components)\n",
    "        elif choice == '4':\n",
    "            load_model_and_components(\"saved_model\")\n",
    "        elif choice == '5':\n",
    "            print(\"Exiting system.\")\n",
    "            break\n",
    "        else:\n",
    "            print(\"Invalid choice.\")\n"
   ]
  },
  {
   "cell_type": "markdown",
   "id": "853d4363-d1fe-47b6-9297-7894ccf5e343",
   "metadata": {},
   "source": [
    "## 🚀 Main Execution\n",
    "Finally, we load the saved model and start the interactive prediction system.\n"
   ]
  },
  {
   "cell_type": "code",
   "execution_count": 10,
   "id": "623520bd-bf8a-4f83-bfbf-376c67379455",
   "metadata": {},
   "outputs": [
    {
     "name": "stdout",
     "output_type": "stream",
     "text": [
      "HEART DISEASE RISK PREDICTION SYSTEM\n",
      "Loading latest model version: 20250906_075310\n",
      "Model loaded: saved_model\\heart_disease_model_20250906_075310.pkl\n",
      "Feature_info loaded: saved_model\\feature_info_20250906_075310.pkl\n",
      "Encoders loaded: saved_model\\label_encoders_20250906_075310.pkl\n",
      "Metadata loaded: saved_model\\model_metadata_20250906_075310.pkl\n",
      "Model loading completed! Version: 20250906_075310\n",
      "\n",
      "INTERACTIVE HEART DISEASE RISK PREDICTOR\n",
      "Model Version: 20250906_075310\n",
      "============================================================\n",
      "1. New Patient Assessment\n",
      "2. Batch Assessment\n",
      "3. View Model Information\n",
      "4. Load Different Model Version\n",
      "5. Exit\n"
     ]
    },
    {
     "name": "stdin",
     "output_type": "stream",
     "text": [
      "\n",
      "Select option (1-5):  1\n"
     ]
    },
    {
     "ename": "KeyboardInterrupt",
     "evalue": "Interrupted by user",
     "output_type": "error",
     "traceback": [
      "\u001b[1;31m---------------------------------------------------------------------------\u001b[0m",
      "\u001b[1;31mKeyboardInterrupt\u001b[0m                         Traceback (most recent call last)",
      "Cell \u001b[1;32mIn[10], line 10\u001b[0m\n\u001b[0;32m      7\u001b[0m     interactive_risk_prediction(loaded_components)\n\u001b[0;32m      9\u001b[0m \u001b[38;5;28;01mif\u001b[39;00m \u001b[38;5;18m__name__\u001b[39m \u001b[38;5;241m==\u001b[39m \u001b[38;5;124m\"\u001b[39m\u001b[38;5;124m__main__\u001b[39m\u001b[38;5;124m\"\u001b[39m:\n\u001b[1;32m---> 10\u001b[0m     main()\n",
      "Cell \u001b[1;32mIn[10], line 7\u001b[0m, in \u001b[0;36mmain\u001b[1;34m()\u001b[0m\n\u001b[0;32m      5\u001b[0m     \u001b[38;5;28mprint\u001b[39m(\u001b[38;5;124m\"\u001b[39m\u001b[38;5;124mNo model found! Train and save a model first.\u001b[39m\u001b[38;5;124m\"\u001b[39m)\n\u001b[0;32m      6\u001b[0m     \u001b[38;5;28;01mreturn\u001b[39;00m\n\u001b[1;32m----> 7\u001b[0m interactive_risk_prediction(loaded_components)\n",
      "Cell \u001b[1;32mIn[9], line 23\u001b[0m, in \u001b[0;36minteractive_risk_prediction\u001b[1;34m(loaded_components)\u001b[0m\n\u001b[0;32m     20\u001b[0m choice \u001b[38;5;241m=\u001b[39m \u001b[38;5;28minput\u001b[39m(\u001b[38;5;124m\"\u001b[39m\u001b[38;5;130;01m\\n\u001b[39;00m\u001b[38;5;124mSelect option (1-5): \u001b[39m\u001b[38;5;124m\"\u001b[39m)\u001b[38;5;241m.\u001b[39mstrip()\n\u001b[0;32m     22\u001b[0m \u001b[38;5;28;01mif\u001b[39;00m choice \u001b[38;5;241m==\u001b[39m \u001b[38;5;124m'\u001b[39m\u001b[38;5;124m1\u001b[39m\u001b[38;5;124m'\u001b[39m:\n\u001b[1;32m---> 23\u001b[0m     name \u001b[38;5;241m=\u001b[39m \u001b[38;5;28minput\u001b[39m(\u001b[38;5;124m\"\u001b[39m\u001b[38;5;124mEnter patient name: \u001b[39m\u001b[38;5;124m\"\u001b[39m)\u001b[38;5;241m.\u001b[39mstrip() \u001b[38;5;129;01mor\u001b[39;00m \u001b[38;5;124m\"\u001b[39m\u001b[38;5;124mAnonymous\u001b[39m\u001b[38;5;124m\"\u001b[39m\n\u001b[0;32m     24\u001b[0m     data \u001b[38;5;241m=\u001b[39m get_user_input()\n\u001b[0;32m     25\u001b[0m     result \u001b[38;5;241m=\u001b[39m predict_patient_risk(model, data, name)\n",
      "File \u001b[1;32m~\\anaconda3\\Lib\\site-packages\\ipykernel\\kernelbase.py:1282\u001b[0m, in \u001b[0;36mKernel.raw_input\u001b[1;34m(self, prompt)\u001b[0m\n\u001b[0;32m   1280\u001b[0m     msg \u001b[38;5;241m=\u001b[39m \u001b[38;5;124m\"\u001b[39m\u001b[38;5;124mraw_input was called, but this frontend does not support input requests.\u001b[39m\u001b[38;5;124m\"\u001b[39m\n\u001b[0;32m   1281\u001b[0m     \u001b[38;5;28;01mraise\u001b[39;00m StdinNotImplementedError(msg)\n\u001b[1;32m-> 1282\u001b[0m \u001b[38;5;28;01mreturn\u001b[39;00m \u001b[38;5;28mself\u001b[39m\u001b[38;5;241m.\u001b[39m_input_request(\n\u001b[0;32m   1283\u001b[0m     \u001b[38;5;28mstr\u001b[39m(prompt),\n\u001b[0;32m   1284\u001b[0m     \u001b[38;5;28mself\u001b[39m\u001b[38;5;241m.\u001b[39m_parent_ident[\u001b[38;5;124m\"\u001b[39m\u001b[38;5;124mshell\u001b[39m\u001b[38;5;124m\"\u001b[39m],\n\u001b[0;32m   1285\u001b[0m     \u001b[38;5;28mself\u001b[39m\u001b[38;5;241m.\u001b[39mget_parent(\u001b[38;5;124m\"\u001b[39m\u001b[38;5;124mshell\u001b[39m\u001b[38;5;124m\"\u001b[39m),\n\u001b[0;32m   1286\u001b[0m     password\u001b[38;5;241m=\u001b[39m\u001b[38;5;28;01mFalse\u001b[39;00m,\n\u001b[0;32m   1287\u001b[0m )\n",
      "File \u001b[1;32m~\\anaconda3\\Lib\\site-packages\\ipykernel\\kernelbase.py:1325\u001b[0m, in \u001b[0;36mKernel._input_request\u001b[1;34m(self, prompt, ident, parent, password)\u001b[0m\n\u001b[0;32m   1322\u001b[0m \u001b[38;5;28;01mexcept\u001b[39;00m \u001b[38;5;167;01mKeyboardInterrupt\u001b[39;00m:\n\u001b[0;32m   1323\u001b[0m     \u001b[38;5;66;03m# re-raise KeyboardInterrupt, to truncate traceback\u001b[39;00m\n\u001b[0;32m   1324\u001b[0m     msg \u001b[38;5;241m=\u001b[39m \u001b[38;5;124m\"\u001b[39m\u001b[38;5;124mInterrupted by user\u001b[39m\u001b[38;5;124m\"\u001b[39m\n\u001b[1;32m-> 1325\u001b[0m     \u001b[38;5;28;01mraise\u001b[39;00m \u001b[38;5;167;01mKeyboardInterrupt\u001b[39;00m(msg) \u001b[38;5;28;01mfrom\u001b[39;00m\u001b[38;5;250m \u001b[39m\u001b[38;5;28;01mNone\u001b[39;00m\n\u001b[0;32m   1326\u001b[0m \u001b[38;5;28;01mexcept\u001b[39;00m \u001b[38;5;167;01mException\u001b[39;00m:\n\u001b[0;32m   1327\u001b[0m     \u001b[38;5;28mself\u001b[39m\u001b[38;5;241m.\u001b[39mlog\u001b[38;5;241m.\u001b[39mwarning(\u001b[38;5;124m\"\u001b[39m\u001b[38;5;124mInvalid Message:\u001b[39m\u001b[38;5;124m\"\u001b[39m, exc_info\u001b[38;5;241m=\u001b[39m\u001b[38;5;28;01mTrue\u001b[39;00m)\n",
      "\u001b[1;31mKeyboardInterrupt\u001b[0m: Interrupted by user"
     ]
    }
   ],
   "source": [
    "def main():\n",
    "    print(\"HEART DISEASE RISK PREDICTION SYSTEM\")\n",
    "    loaded_components = load_model_and_components(\"saved_model\")\n",
    "    if not loaded_components or not loaded_components.get('model'):\n",
    "        print(\"No model found! Train and save a model first.\")\n",
    "        return\n",
    "    interactive_risk_prediction(loaded_components)\n",
    "\n",
    "if __name__ == \"__main__\":\n",
    "    main()\n"
   ]
  },
  {
   "cell_type": "code",
   "execution_count": null,
   "id": "ba964404-f299-44b0-9003-376da5b9978a",
   "metadata": {},
   "outputs": [],
   "source": []
  }
 ],
 "metadata": {
  "kernelspec": {
   "display_name": "Python 3 (ipykernel)",
   "language": "python",
   "name": "python3"
  },
  "language_info": {
   "codemirror_mode": {
    "name": "ipython",
    "version": 3
   },
   "file_extension": ".py",
   "mimetype": "text/x-python",
   "name": "python",
   "nbconvert_exporter": "python",
   "pygments_lexer": "ipython3",
   "version": "3.13.5"
  }
 },
 "nbformat": 4,
 "nbformat_minor": 5
}
